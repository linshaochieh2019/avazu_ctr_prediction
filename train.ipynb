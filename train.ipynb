{
 "cells": [
  {
   "cell_type": "code",
   "execution_count": 7,
   "metadata": {},
   "outputs": [],
   "source": [
    "import numpy as np\n",
    "import pandas as pd\n",
    "import os\n",
    "import pickle\n",
    "\n",
    "from preprocess import *\n",
    "\n",
    "mode = 3\n",
    "#debug, 1, n, full \n",
    "# if it's int - then it means n_portions"
   ]
  },
  {
   "cell_type": "code",
   "execution_count": 8,
   "metadata": {},
   "outputs": [
    {
     "name": "stdout",
     "output_type": "stream",
     "text": [
      "[('2f323f363bb1ddd7', 34588), ('6b9769f28a4875bd', 33952), ('930ec31d3bb1ddd7', 33676)]\n"
     ]
    }
   ],
   "source": [
    "# Load counter\n",
    "cwd = os.getcwd() # current dir\n",
    "uid_counter = cwd + '/helpers/uid_counter.pkl'\n",
    "\n",
    "with open(uid_counter, 'rb') as f:\n",
    "    uid_counter = pickle.load(f)\n",
    "\n",
    "print(uid_counter.most_common(3))"
   ]
  },
  {
   "cell_type": "code",
   "execution_count": 9,
   "metadata": {},
   "outputs": [
    {
     "name": "stdout",
     "output_type": "stream",
     "text": [
      "Training mode:  3\n",
      "Training 3 portions\n",
      "Training portion number  0\n",
      "The shape of training dataset:  (4000000, 24)\n",
      "Encoding training dataset then return encoded data and encoder...\n",
      "- encoding hour\n",
      "- encoding site and app data\n",
      "- mapping counting data\n",
      "- one-hot encoding\n",
      "Encoding is done\n",
      "Training model\n",
      "Saveing model, encoder and loss\n",
      "Model and encoder saved\n",
      "\n",
      "Training portion number  1\n",
      "The shape of training dataset:  (4000000, 24)\n",
      "Encoding training dataset then return encoded data and encoder...\n",
      "- encoding hour\n",
      "- encoding site and app data\n",
      "- mapping counting data\n",
      "- one-hot encoding\n",
      "Encoding is done\n",
      "Training model\n",
      "Saveing model, encoder and loss\n",
      "Model and encoder saved\n",
      "\n",
      "Training portion number  2\n",
      "The shape of training dataset:  (4000000, 24)\n",
      "Encoding training dataset then return encoded data and encoder...\n",
      "- encoding hour\n",
      "- encoding site and app data\n",
      "- mapping counting data\n",
      "- one-hot encoding\n",
      "Encoding is done\n",
      "Training model\n",
      "Saveing model, encoder and loss\n",
      "Model and encoder saved\n",
      "\n",
      "Training portion number  3\n",
      "The shape of training dataset:  (4000000, 24)\n",
      "Encoding training dataset then return encoded data and encoder...\n",
      "- encoding hour\n",
      "- encoding site and app data\n",
      "- mapping counting data\n",
      "- one-hot encoding\n",
      "Encoding is done\n",
      "Training model\n",
      "Saveing model, encoder and loss\n",
      "Model and encoder saved\n",
      "\n"
     ]
    }
   ],
   "source": [
    "print('Training mode: ', mode)\n",
    "train_path = cwd + '/data/train.gz'\n",
    "\n",
    "if mode == 'debug':\n",
    "    chunksize = 1000\n",
    "    for eid,c in enumerate(pd.read_csv(train_path, chunksize=chunksize)):\n",
    "        train = c\n",
    "        print('The shape of training dataset: ', train.shape)\n",
    "        encoded_data, target, encoder = encoding(train, uid_counter)\n",
    "        clf, loss = training(encoded_data, target)\n",
    "        save_model(clf, encoder, loss, cwd, model_index=eid)\n",
    "        break\n",
    "\n",
    "elif type(mode) == int:\n",
    "    print(f'Training {mode} portions')\n",
    "    chunksize = 4000000\n",
    "    for eid,c in enumerate(pd.read_csv(train_path, chunksize=chunksize)):\n",
    "        print('Training portion number ', eid)\n",
    "        train = c\n",
    "        print('The shape of training dataset: ', train.shape)\n",
    "        encoded_data, target, encoder = encoding(train, uid_counter)\n",
    "        clf, loss = training(encoded_data, target)\n",
    "        save_model(clf, encoder, loss, cwd, model_index=eid)\n",
    "        print('')\n",
    "        if eid == mode:\n",
    "            break"
   ]
  }
 ],
 "metadata": {
  "kernelspec": {
   "display_name": "base",
   "language": "python",
   "name": "python3"
  },
  "language_info": {
   "codemirror_mode": {
    "name": "ipython",
    "version": 3
   },
   "file_extension": ".py",
   "mimetype": "text/x-python",
   "name": "python",
   "nbconvert_exporter": "python",
   "pygments_lexer": "ipython3",
   "version": "3.9.12"
  },
  "orig_nbformat": 4,
  "vscode": {
   "interpreter": {
    "hash": "5c9dfa2a9065d4799d5228156fe6228708fcd0266459806f9910b87a3f6cb160"
   }
  }
 },
 "nbformat": 4,
 "nbformat_minor": 2
}
